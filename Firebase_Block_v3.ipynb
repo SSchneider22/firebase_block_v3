  {
    "customer_id": "1",
    "event_timestamp": "2020-02-01T03:01:21.456",
    "text": "I didn't like the bathroom at the hotel I stayed",
    "string_properites": [
      {
        "key": "Country",
        "value": "France"
      },
      {
        "key": "Device",
        "value": "Android"
      }
     ],
     "number_properties": [
      {
        "key": "Rating",
        "value": 3.0
      }
     ]
   }     
   {
    "customer_id": "2",
    "event_timestamp": "2020-01-03T01:03:44.123Z",
    "text":  "There aren't enough opportunities for personal development.",
    "string_properites": [
      {
        "key": "Office",
        "value": "Leicester"
      },
      {
        "key": "Manager",
        "value": "John Doe"
      }
     ],
     "number_properties": [
      {
        "key": "Time To Response",
        "value": 125.6
      }
     ]
   }
     
